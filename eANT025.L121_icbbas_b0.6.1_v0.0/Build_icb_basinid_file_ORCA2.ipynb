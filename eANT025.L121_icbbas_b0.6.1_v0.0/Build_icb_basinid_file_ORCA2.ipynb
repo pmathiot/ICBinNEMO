{
 "cells": [
  {
   "cell_type": "code",
   "execution_count": 41,
   "id": "ad8c1863",
   "metadata": {},
   "outputs": [],
   "source": [
    "# load module\n",
    "import xarray as xr\n",
    "import numpy as np\n",
    "from skimage.segmentation import flood_fill"
   ]
  },
  {
   "cell_type": "code",
   "execution_count": 42,
   "id": "fec81cbd",
   "metadata": {},
   "outputs": [],
   "source": [
    "# compute closest ocean coastal cell\n",
    "def get_nearest_ocean_point_1d(xlon, ylat, lon1d, lat1d):\n",
    "    \"\"\"needle is a single (lat,long) tuple.\n",
    "          haystack is a numpy array to find the point in\n",
    "          that has the shortest distance to needle\n",
    "    \"\"\"\n",
    "    earth_radius_miles = 6371.0\n",
    "    dlat = lat1d[:] - ylat\n",
    "    dlon = lon1d[:] - xlon\n",
    "    a = np.square(np.sin(dlat/2.0)) + np.cos(ylat) * np.cos(lat1d[:]) * np.square(np.sin(dlon/2.0))\n",
    "    [iptsmin] = np.nonzero(a==np.min(a))   # the minimun location can be retreive at this stage\n",
    "    \n",
    "    if len(iptsmin) > 1:\n",
    "        great_circle_distance = 2 * np.arcsin(np.sqrt(a[iptsmin]))\n",
    "        d = earth_radius_miles * great_circle_distance\n",
    "        print('find more than 1 point, I don\\'t know what to do,')\n",
    "        print([iptsmin],lon1d[iptsmin],lat1d[iptsmin],mask1d[iptsmin],d)\n",
    "        print(np.min(a[mask1d != 0]))\n",
    "        print('I pickup the first one')\n",
    "    elif len(iptsmin) == 0:\n",
    "        print('find 0 point, I don\\'t know what to do, exit 42')\n",
    "        sys.exit(42)\n",
    "    return iptsmin[0]"
   ]
  },
  {
   "cell_type": "code",
   "execution_count": 43,
   "id": "1262c103",
   "metadata": {},
   "outputs": [],
   "source": [
    "def get_trg_coastal_points(ds,yseed,xseed):\n",
    "    \n",
    "    ## get coastal points\n",
    "    msk_oce=ds.tmask.values[0,0,:,:].squeeze()\n",
    "    \n",
    "    print('ni/nj out')\n",
    "    nj_out=msk_oce.shape[0]\n",
    "    ni_out=msk_oce.shape[1]\n",
    "    print(ni_out, nj_out)\n",
    "    \n",
    "    mask_trg=np.zeros(shape=(nj_out,ni_out))\n",
    "    zmask=np.zeros(shape=(nj_out+1,ni_out+2))\n",
    "    zmask[1::,1:-1]=msk_oce\n",
    "    # periodicity\n",
    "    zmask[:, 0]=zmask[:,-2]\n",
    "    zmask[:,-1]=zmask[:, 1]\n",
    "    zmask[0,:]=0\n",
    "    \n",
    "    # filling\n",
    "    zmask = flood_fill(zmask, (yseed, xseed), 2)\n",
    "    zmask[zmask!=2]=1\n",
    "    zmask[zmask==2]=0\n",
    "\n",
    "    print('get coastal mask')\n",
    "    # build coastal mask\n",
    "    mask_trg[0:-1,:]= ( zmask[1:-1,1:-1] + \n",
    "                              zmask[0:-2,1:-1] + zmask[2::,1:-1] + zmask[1:-1,0:-2] + zmask[1:-1,2::] + \n",
    "                              zmask[0:-2,0:-2] + zmask[2::,2::]  + zmask[2::,0:-2]  + zmask[0:-2,2::] ) * zmask[1:-1,1:-1]\n",
    "    mask_trg[(mask_trg > 1) & (mask_trg < 9)] = 10\n",
    "    mask_trg[mask_trg != 10] = np.nan\n",
    "    mask_trg=mask_trg.astype(np.float32)\n",
    "    mask_trg[mask_trg==10]=1\n",
    "\n",
    "    print('get 1d array of coastal points')\n",
    "    iy_trg,ix_trg=np.where(mask_trg==1)\n",
    "    mask_trg_1d=mask_trg[iy_trg,ix_trg]\n",
    "\n",
    "    lon=np.radians(ds.nav_lon.values.squeeze())\n",
    "    lat=np.radians(ds.nav_lat.values.squeeze())\n",
    "    lon_1d=lon[iy_trg,ix_trg]\n",
    "    lat_1d=lat[iy_trg,ix_trg]\n",
    "    \n",
    "    return iy_trg,ix_trg,mask_trg_1d,lon_1d,lat_1d"
   ]
  },
  {
   "cell_type": "code",
   "execution_count": 44,
   "id": "afecaa81",
   "metadata": {},
   "outputs": [
    {
     "name": "stdout",
     "output_type": "stream",
     "text": [
      "ni/nj out\n",
      "180 148\n",
      "get coastal mask\n",
      "get 1d array of coastal points\n"
     ]
    }
   ],
   "source": [
    "\n",
    "# get Ant NEMO coastal points\n",
    "ds_trg=xr.open_dataset('mesh_mask.nc')\n",
    "\n",
    "## Get Antarctica mask point\n",
    "yant=10\n",
    "xant=10\n",
    "iy_trg,ix_trg,mask_coast_trg_1d,lon_trg_rad_1d,lat_trg_rad_1d=get_trg_coastal_points(ds_trg,yant,xant)"
   ]
  },
  {
   "cell_type": "code",
   "execution_count": 45,
   "id": "1f48bc45",
   "metadata": {},
   "outputs": [
    {
     "name": "stdout",
     "output_type": "stream",
     "text": [
      "open input file\n",
      "get coastal trg mask\n",
      "get BedMachine coastal input points\n",
      "20873\n",
      "get lon 1d\n",
      "get lat 1d\n",
      "get basin 1d\n"
     ]
    }
   ],
   "source": [
    "# Get Ant IMBIE coastal points\n",
    "# ## Input data\n",
    "print('open input file')\n",
    "cf_in='Mask_SubRegions_IMBIE.nc'\n",
    "ds_in=xr.open_dataset(cf_in)\n",
    "\n",
    "print('get coastal trg mask')\n",
    "mask_in=np.where(ds_in.SubBasins.values[:,:] < 200, 1, 0)\n",
    "mask_coast_in=np.zeros(shape=mask_in.shape)\n",
    "mask_coast_in[1:-1,1:-1]= ( mask_in[1:-1,1:-1] + \n",
    "                            mask_in[0:-2,1:-1] + mask_in[2::,1:-1] + mask_in[1:-1,0:-2] + mask_in[1:-1,2::] +\n",
    "                            mask_in[0:-2,0:-2] + mask_in[2::,2::]  + mask_in[2::,0:-2]  + mask_in[0:-2,2::] ) * mask_in[1:-1,1:-1]\n",
    "mask_coast_in[(mask_coast_in > 1) & (mask_coast_in < 9)] = 10\n",
    "mask_coast_in[mask_coast_in!=10]=np.nan\n",
    "mask_coast_in=mask_coast_in.astype(np.float32)\n",
    "mask_coast_in[mask_coast_in==10]=1\n",
    "\n",
    "print('get BedMachine coastal input points')\n",
    "ij_lst=np.where(mask_coast_in == 1)\n",
    "print(len(ij_lst[0]))\n",
    "\n",
    "def get_1d_data(ds,ptslst):\n",
    "    print('get lon 1d')\n",
    "    lon1d=np.radians(ds.lon.values[ptslst[0],ptslst[1]])\n",
    "    print('get lat 1d')\n",
    "    lat1d=np.radians(ds.lat.values[ptslst[0],ptslst[1]])\n",
    "    print('get basin 1d')\n",
    "    b1d=ds.SubBasins.values[ptslst[0],ptslst[1]]\n",
    "    return lon1d,lat1d,b1d\n",
    "lon_in_rad_1d,lat_in_rad_1d,bas_in_1d=get_1d_data(ds_in,ij_lst)"
   ]
  },
  {
   "cell_type": "code",
   "execution_count": 46,
   "id": "e3c51010",
   "metadata": {},
   "outputs": [
    {
     "name": "stdout",
     "output_type": "stream",
     "text": [
      "294\n",
      "0\n",
      "100\n",
      "200\n"
     ]
    }
   ],
   "source": [
    "# Fill Ant coastal NEMO points with id\n",
    "# for each NEMO coastal point, pickup the IMBIE value the closest\n",
    "basinid_trg=np.zeros(shape=(ds_trg.tmask.values[0,0,:,:].squeeze().shape))\n",
    "print(len(iy_trg))\n",
    "for ipt in range(0,len(iy_trg)):\n",
    "    if ipt%100 == 0:\n",
    "        print(ipt)\n",
    "    # get closest point\n",
    "    inearest=get_nearest_ocean_point_1d(lon_trg_rad_1d[ipt], lat_trg_rad_1d[ipt],\n",
    "                                       lon_in_rad_1d, lat_in_rad_1d)\n",
    "    basinid_trg[iy_trg[ipt],ix_trg[ipt]]=bas_in_1d[inearest]"
   ]
  },
  {
   "cell_type": "code",
   "execution_count": 47,
   "id": "61d00b8b",
   "metadata": {},
   "outputs": [
    {
     "data": {
      "text/plain": [
       "{1.0,\n",
       " 2.0,\n",
       " 3.0,\n",
       " 4.0,\n",
       " 5.0,\n",
       " 6.0,\n",
       " 7.0,\n",
       " 8.0,\n",
       " 9.0,\n",
       " 10.0,\n",
       " 11.0,\n",
       " 12.0,\n",
       " 13.0,\n",
       " 14.0,\n",
       " 15.0,\n",
       " 16.0,\n",
       " 17.0,\n",
       " 18.0}"
      ]
     },
     "execution_count": 47,
     "metadata": {},
     "output_type": "execute_result"
    }
   ],
   "source": [
    "# get 1d id array for correspondance\n",
    "idlist=set(bas_in_1d)\n",
    "idlist"
   ]
  },
  {
   "cell_type": "code",
   "execution_count": 48,
   "id": "6a5d2e99",
   "metadata": {},
   "outputs": [
    {
     "name": "stdout",
     "output_type": "stream",
     "text": [
      "ni/nj out\n",
      "180 148\n",
      "get coastal mask\n",
      "get 1d array of coastal points\n"
     ]
    }
   ],
   "source": [
    "# do the same for Greenland\n",
    "## Get Greenland mask point\n",
    "ygreen=132\n",
    "xgreen=125\n",
    "iy_trg,ix_trg,mask_coast_trg_1d,lon_trg_rad_1d,lat_trg_rad_1d=get_trg_coastal_points(ds_trg,ygreen,xgreen)"
   ]
  },
  {
   "cell_type": "code",
   "execution_count": 49,
   "id": "bcef9460",
   "metadata": {},
   "outputs": [
    {
     "name": "stdout",
     "output_type": "stream",
     "text": [
      "[117 117 117 118 118 118 119 119 119 119 120 120 121 121 121 122 122 122\n",
      " 122 123 123 123 124 124 124 124 124 125 125 125 126 126 126 127 127 127\n",
      " 128 128 129 129 130 130 130 131 131 131 132 132 133 133 134 134 134 135\n",
      " 135 135 135 135 136 136 137 137 138 138 138 139 139 139 140 140 140 140\n",
      " 140 140 141 141 141 142 142 143 143 143 144 144 144 145 145 145 146 146\n",
      " 146 146 146 146] [118 119 120 117 118 120 116 117 120 121 116 121 116 121 122 116 122 123\n",
      " 124 116 124 125 116 125 126 127 128 116 128 129 116 129 130 116 117 130\n",
      " 117 130 117 130 117 130 131 117 118 131 118 131 118 131 118 119 131 117\n",
      " 118 119 131 132 117 132 117 132 117 131 132 117 130 131 117 126 127 128\n",
      " 129 130 117 125 126 117 125 117 124 125 117 123 124 117 122 123 117 118\n",
      " 119 120 121 122]\n",
      "0\n"
     ]
    }
   ],
   "source": [
    "# for each NEMO coastal point, pickup the IMBIE value the closest\n",
    "print(iy_trg,ix_trg)\n",
    "for ipt in range(0,len(iy_trg)):\n",
    "    if ipt%100 == 0:\n",
    "        print(ipt)\n",
    "    # get closest point\n",
    "    inearest=get_nearest_ocean_point_1d(lon_trg_rad_1d[ipt], lat_trg_rad_1d[ipt],\n",
    "                                       lon_in_rad_1d, lat_in_rad_1d)\n",
    "    basinid_trg[iy_trg[ipt],ix_trg[ipt]]=99\n",
    "    \n",
    "idlist.add(99)"
   ]
  },
  {
   "cell_type": "code",
   "execution_count": 56,
   "id": "90b074a4",
   "metadata": {},
   "outputs": [],
   "source": [
    "# for all other calving point:\n",
    "ds_calv=xr.open_dataset('calving.nc')\n",
    "ij_clv=np.where((ds_calv.calving[0,:,:]!= 0) & (basinid_trg[:,:] == 0))\n",
    "basinid_trg[ij_clv[0],ij_clv[1]]=100\n",
    "idlist.add(100)"
   ]
  },
  {
   "cell_type": "code",
   "execution_count": 57,
   "id": "4978aa69",
   "metadata": {},
   "outputs": [
    {
     "data": {
      "text/plain": [
       "array([  1,   2,   3,   4,   5,   6,   7,   8,   9,  10,  11,  12,  13,\n",
       "        14,  15,  16,  17,  18,  99, 100])"
      ]
     },
     "execution_count": 57,
     "metadata": {},
     "output_type": "execute_result"
    }
   ],
   "source": [
    "# get 1d id array for correspondance\n",
    "idlst=np.array(sorted(idlist)).astype(int)\n",
    "idlst"
   ]
  },
  {
   "cell_type": "code",
   "execution_count": 58,
   "id": "56c3980b",
   "metadata": {},
   "outputs": [],
   "source": [
    "# Write netcdf\n",
    "# ## Write output\n",
    "# define data with variable attributes\n",
    "data_vars = {'basinid':(['y','x'], basinid_trg,\n",
    "                          {'units': '[]', \n",
    "                           'long_name':'basinid'}),\n",
    "             'basins':(['basins'],np.array(sorted(idlist)).astype(int),\n",
    "                         {'unit': '[]'})\n",
    "                          }\n",
    "\n",
    "# define coordinates\n",
    "coords = {'nav_lon': (['y','x'], ds_trg.nav_lon.values.squeeze()),\n",
    "          'nav_lat': (['y','x'], ds_trg.nav_lat.values.squeeze())}\n",
    "\n",
    "# define global attributes\n",
    "attrs = {'source':cf_in, \n",
    "         'method':('basinid is the id of the closest cell within source file')\n",
    "         }\n",
    "\n",
    "# create dataset\n",
    "ds_out = xr.Dataset(data_vars=data_vars, \n",
    "                coords=coords, \n",
    "                attrs=attrs)\n",
    "\n",
    "ds_out.to_netcdf('toto.nc')"
   ]
  }
 ],
 "metadata": {
  "kernelspec": {
   "display_name": "Python 3 (ipykernel)",
   "language": "python",
   "name": "python3"
  },
  "language_info": {
   "codemirror_mode": {
    "name": "ipython",
    "version": 3
   },
   "file_extension": ".py",
   "mimetype": "text/x-python",
   "name": "python",
   "nbconvert_exporter": "python",
   "pygments_lexer": "ipython3",
   "version": "3.8.12"
  }
 },
 "nbformat": 4,
 "nbformat_minor": 5
}
