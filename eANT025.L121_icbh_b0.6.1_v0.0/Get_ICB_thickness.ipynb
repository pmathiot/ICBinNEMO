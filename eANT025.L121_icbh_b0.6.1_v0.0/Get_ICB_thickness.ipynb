{
 "cells": [
  {
   "cell_type": "code",
   "execution_count": 1,
   "id": "1916a992",
   "metadata": {},
   "outputs": [],
   "source": [
    "# load module\n",
    "import xarray as xr\n",
    "import numpy as np"
   ]
  },
  {
   "cell_type": "code",
   "execution_count": 2,
   "id": "f54b2d1c",
   "metadata": {},
   "outputs": [],
   "source": [
    "# compute closest ocean coastal cell\n",
    "def get_dist_ocean_point_1d(xlon, ylat, lon1d, lat1d):\n",
    "    '''Haversine formula'''\n",
    "    earth_radius_miles = 6371.0\n",
    "    dlat = lat1d[:] - ylat\n",
    "    dlon = lon1d[:] - xlon\n",
    "    a = np.square(np.sin(dlat/2.0)) + np.cos(ylat) * np.cos(lat1d[:]) * np.square(np.sin(dlon/2.0))\n",
    "    great_circle_distance = 2 * np.arcsin(np.sqrt(a))\n",
    "    d = earth_radius_miles * great_circle_distance\n",
    "    return d"
   ]
  },
  {
   "cell_type": "code",
   "execution_count": null,
   "id": "af5bf8c9",
   "metadata": {},
   "outputs": [],
   "source": [
    "def get_coastal_msk(mask_in,lewp):\n",
    "    nj_out=mask_in.shape[0]\n",
    "    ni_out=mask_in.shape[1]\n",
    "\n",
    "    if lewp:\n",
    "        mask=np.zeros(shape=(nj_out,ni_out+2))\n",
    "        mask[:,1:-1]=mask_in\n",
    "        mask[:, 0]=mask[:,-2]\n",
    "        mask[:,-1]=mask[:, 1]\n",
    "        xslc=slice(0,ni_out)\n",
    "    else:\n",
    "        mask=mask_in\n",
    "        xslc=slice(1,-1)\n",
    "        \n",
    "    mask_coast=np.zeros(shape=(nj_out,ni_out))\n",
    "    mask_coast[1:-1,xslc]= ( mask[1:-1,1:-1] + \n",
    "                             mask[0:-2,1:-1] + mask[2::,1:-1] + mask[1:-1,0:-2] + mask[1:-1,2::] +\n",
    "                             mask[0:-2,0:-2] + mask[2::,2::]  + mask[2::,0:-2]  + mask[0:-2,2::] ) * mask[1:-1,1:-1]\n",
    "    mask_coast[(mask_coast > 1) & (mask_coast < 9)] = 10\n",
    "    mask_coast[mask_coast!=10]=np.nan\n",
    "    mask_coast=mask_coast.astype(np.float32)\n",
    "    mask_coast[mask_coast==10]=1\n",
    "    \n",
    "    return mask_coast"
   ]
  },
  {
   "cell_type": "code",
   "execution_count": null,
   "id": "853d969a",
   "metadata": {},
   "outputs": [],
   "source": [
    "def get_1d_data(ds,ptslst):\n",
    "    print('get lon 1d')\n",
    "    lon1d=np.radians(ds.lon.values[ptslst[0],ptslst[1]])\n",
    "    print('get lat 1d')\n",
    "    lat1d=np.radians(ds.lat.values[ptslst[0],ptslst[1]])\n",
    "    print('get thickness 1d')\n",
    "    h1d=ds.thickness.values[ptslst[0],ptslst[1]]\n",
    "    print('get mask ice')\n",
    "    msk1d=ds.mask.values[ptslst[0],ptslst[1]]\n",
    "    return lon1d,lat1d,h1d,msk1d"
   ]
  },
  {
   "cell_type": "code",
   "execution_count": 3,
   "id": "97b37bd0",
   "metadata": {},
   "outputs": [
    {
     "name": "stdout",
     "output_type": "stream",
     "text": [
      "open input file\n"
     ]
    }
   ],
   "source": [
    "cfin ='BedMachineAntarctica-v3_ll.nc'\n",
    "cfout='eANT025.L121_icbh_b0.6.1_v0.0.nc'\n",
    "\n",
    "# ## Input data\n",
    "print('open input file')\n",
    "ds_in=xr.open_dataset(cfin)"
   ]
  },
  {
   "cell_type": "code",
   "execution_count": 75,
   "id": "9152a535",
   "metadata": {},
   "outputs": [
    {
     "name": "stdout",
     "output_type": "stream",
     "text": [
      "get coastal trg mask\n"
     ]
    }
   ],
   "source": [
    "print('get coastal trg mask')\n",
    "mask_in=ds_in.msk_ice.values[:,:]\n",
    "mask_coast_in=get_coastal_msk(mask_in,False)"
   ]
  },
  {
   "cell_type": "code",
   "execution_count": 73,
   "id": "d6cf6eea",
   "metadata": {},
   "outputs": [
    {
     "name": "stdout",
     "output_type": "stream",
     "text": [
      "get BedMachine coastal input points\n",
      "472082\n"
     ]
    }
   ],
   "source": [
    "print('get BedMachine coastal input points')\n",
    "ij_lst=np.where(mask_coast_in == 1)\n",
    "print(len(ij_lst[0]))"
   ]
  },
  {
   "cell_type": "code",
   "execution_count": 29,
   "id": "3ec11f2d",
   "metadata": {},
   "outputs": [
    {
     "name": "stdout",
     "output_type": "stream",
     "text": [
      "get lon 1d\n",
      "get lat 1d\n",
      "get thickness 1d\n",
      "get mask ice\n"
     ]
    }
   ],
   "source": [
    "lon_in_1d,lat_in_1d,h_in_1d,msk_in_1d=get_1d_data(ds_in,ij_lst)"
   ]
  },
  {
   "cell_type": "code",
   "execution_count": 76,
   "id": "bb5edb93",
   "metadata": {},
   "outputs": [
    {
     "name": "stdout",
     "output_type": "stream",
     "text": [
      "open output file\n",
      "ni/nj out\n",
      "get coastal mask\n",
      "get 1d array of coastal points\n"
     ]
    }
   ],
   "source": [
    "# ## Output data\n",
    "cftrg='eANT025.L121_mesh_mask_b0.6.1.nc'\n",
    "\n",
    "print('open output file')\n",
    "# define coastal mask\n",
    "ds_trg=xr.open_dataset(cftrg)\n",
    "e1t_trg=ds_trg.e1t.values.squeeze()\n",
    "\n",
    "lon_trg=ds_trg.nav_lon.values.squeeze()\n",
    "lat_trg=ds_trg.nav_lat.values.squeeze()\n",
    "lon_trg_rad=np.radians(lon_trg)\n",
    "lat_trg_rad=np.radians(lat_trg)\n",
    "\n",
    "print('ni/nj out')\n",
    "nj_out=lon_trg.shape[0]\n",
    "ni_out=lon_trg.shape[1]\n",
    "\n",
    "mask_trg=np.zeros(shape=(nj_out,ni_out+2))\n",
    "mask_coast_trg=np.zeros(shape=(nj_out,ni_out))\n",
    "\n",
    "print('get coastal mask')\n",
    "mask_trg=ds_trg.tmask.values[0,0,:,:].squeeze()\n",
    "mask_coast_trg=get_coastal_msk(mask_trg,True)\n",
    "\n",
    "print('get 1d array of coastal points')\n",
    "iy_trg,ix_trg=np.where(mask_coast_trg==1)\n",
    "mask_coast_trg_1d=mask_coast_trg[iy_trg,ix_trg]\n",
    "lon_trg_rad_1d=lon_trg_rad[iy_trg,ix_trg]\n",
    "lat_trg_rad_1d=lat_trg_rad[iy_trg,ix_trg]"
   ]
  },
  {
   "cell_type": "code",
   "execution_count": 77,
   "id": "0fa8b44b",
   "metadata": {},
   "outputs": [
    {
     "name": "stdout",
     "output_type": "stream",
     "text": [
      "3912\n",
      "0\n",
      "100\n",
      "200\n",
      "300\n",
      "400\n",
      "500\n",
      "600\n",
      "700\n",
      "800\n",
      "900\n",
      "1000\n",
      "1100\n",
      "1200\n",
      "1300\n",
      "1400\n",
      "1500\n",
      "1600\n",
      "1700\n",
      "1800\n",
      "1900\n",
      "2000\n",
      "2100\n",
      "2200\n",
      "2300\n",
      "2400\n",
      "2500\n",
      "2600\n",
      "2700\n",
      "2800\n",
      "2900\n",
      "3000\n",
      "3100\n",
      "3200\n",
      "3300\n",
      "3400\n",
      "3500\n",
      "3600\n",
      "3700\n",
      "3800\n",
      "3900\n"
     ]
    }
   ],
   "source": [
    "hicb_trg=np.zeros(shape=(nj_out,ni_out))\n",
    "mskicb_trg=np.zeros(shape=(nj_out,ni_out))\n",
    "ndaticb_trg=np.zeros(shape=(nj_out,ni_out))\n",
    "ij_miss=np.where(mask_coast_trg == 1)\n",
    "print(len(ij_miss[0]))\n",
    "for ipt,pts in enumerate(ij_miss[0]):\n",
    "    if ipt%100 == 0:\n",
    "        print(ipt)\n",
    "    iiy=ij_miss[0][ipt]\n",
    "    iix=ij_miss[1][ipt]\n",
    "    lon_trg_rad_0d=lon_trg_rad[iiy,iix]\n",
    "    lat_trg_rad_0d=lat_trg_rad[iiy,iix]\n",
    "    dist=get_dist_ocean_point_1d(lon_trg_rad_0d, lat_trg_rad_0d, lon_in_1d, lat_in_1d)\n",
    "    if np.min(dist) < 100 :\n",
    "        search_radius=e1t_trg[iiy,iix]/2/1000 # in km\n",
    "        zh_in=h_in_1d[dist<=np.min(dist)+search_radius]\n",
    "        zmsk_in=msk_in_1d[dist<=np.min(dist)+search_radius]\n",
    "        hicb_trg[iiy,iix]=np.mean(zh_in[zmsk_in==3])\n",
    "        if hicb_trg[iiy,iix]== 0:\n",
    "            print(iiy,iix,h_in_1d[dist<=np.min(dist)+search_radius])\n",
    "        if np.isnan(hicb_trg[iiy,iix]):\n",
    "            hicb_trg[iiy,iix]=50.0\n",
    "            mskicb_trg[iiy,iix]=2\n",
    "        else:\n",
    "            mskicb_trg[iiy,iix]=1\n",
    "            ndaticb_trg[iiy,iix]=len(zh_in[zmsk_in==3])\n",
    "    "
   ]
  },
  {
   "cell_type": "code",
   "execution_count": 78,
   "id": "425f4914",
   "metadata": {},
   "outputs": [
    {
     "name": "stdout",
     "output_type": "stream",
     "text": [
      "write output\n"
     ]
    }
   ],
   "source": [
    "print('write output')\n",
    "# ## Write output\n",
    "# define data with variable attributes\n",
    "data_vars = {'icbh':(['y','x'], hicb_trg,\n",
    "                          {'units': 'm', \n",
    "                           'long_name':'iceberg maximal thickness'}),\n",
    "             'coast':(['y','x'], mask_coast_trg,\n",
    "                         {'units': '[]', \n",
    "                           'long_name':'coastl point mask'}),\n",
    "             'nisfpts':(['y','x'], ndaticb_trg,\n",
    "                         {'units': '[]', \n",
    "                           'long_name':'number of isf point in determining icb thickness'}),\n",
    "             'icbmsk':(['y','x'], mskicb_trg,\n",
    "                          {'units': '[]', \n",
    "                           'long_name':'iceberg type mask '\n",
    "                           '(0:no calving point, '\n",
    "                           ' 1:calving from at least one floating ice shelf,'\n",
    "                           ' 2:from grounded ice sheet)'}),\n",
    "                          }\n",
    "\n",
    "# define coordinates\n",
    "coords = {'nav_lon': (['y','x'], lon_trg),\n",
    "          'nav_lat': (['y','x'], lat_trg)}\n",
    "\n",
    "# define global attributes\n",
    "attrs = {'source':cfin, \n",
    "         'method':('Average of all BedMachine coastal points in a circle of d km center on each coastal NEMO T points.'\n",
    "         'd = 5 + min(gread_circle_distance(NEMO T point, List of BedMachine coastal points))')\n",
    "         }\n",
    "\n",
    "# create dataset\n",
    "ds_out = xr.Dataset(data_vars=data_vars, \n",
    "                coords=coords, \n",
    "                attrs=attrs)\n",
    "\n",
    "ds_out.to_netcdf(cfout)"
   ]
  },
  {
   "cell_type": "code",
   "execution_count": null,
   "id": "4ebd3455",
   "metadata": {},
   "outputs": [],
   "source": [
    "# debug\n",
    "#ds_calv=xr.open_dataset('calving_eANT025.L121.nc')\n",
    "#ij_clv=np.where(ds_calv.soicbclv[0,:,:]!= 0)\n",
    "#for ipt, pts in enumerate(ij_clv[0]):\n",
    "#    iiy=ij_clv[0][ipt]\n",
    "#    iix=ij_clv[1][ipt]\n",
    "#    if hicb_trg[iiy,iix]==0 :\n",
    "#        print(iiy,iix,ds_calv.soicbclv.values[:,iiy,iix],hicb_trg[iiy,iix],mask_coast_trg[iiy,iix])\n",
    "#ds_bm=xr.open_dataset('BedMachineAntarctica-v3.nc')\n",
    "#hdbg=ds_bm.thickness.values[ds_bm.mask.values > 1]\n",
    "#np.min(hdbg)"
   ]
  }
 ],
 "metadata": {
  "kernelspec": {
   "display_name": "Python 3 (ipykernel)",
   "language": "python",
   "name": "python3"
  },
  "language_info": {
   "codemirror_mode": {
    "name": "ipython",
    "version": 3
   },
   "file_extension": ".py",
   "mimetype": "text/x-python",
   "name": "python",
   "nbconvert_exporter": "python",
   "pygments_lexer": "ipython3",
   "version": "3.8.12"
  }
 },
 "nbformat": 4,
 "nbformat_minor": 5
}
